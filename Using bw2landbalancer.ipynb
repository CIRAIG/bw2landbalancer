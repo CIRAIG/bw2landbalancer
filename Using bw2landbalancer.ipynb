{
 "cells": [
  {
   "cell_type": "markdown",
   "metadata": {},
   "source": [
    "# Using `bw2landbalancer`\n",
    "\n",
    "Notebook showing typical usage of `bw2landbalancer`"
   ]
  },
  {
   "cell_type": "markdown",
   "metadata": {},
   "source": [
    "## Generating the samples"
   ]
  },
  {
   "cell_type": "markdown",
   "metadata": {},
   "source": [
    "`bw2landbalancer` works with Brightway2. You only need set as current a project in which the database for which you want to balance land transformation exchanges is imported."
   ]
  },
  {
   "cell_type": "code",
   "execution_count": 1,
   "metadata": {},
   "outputs": [],
   "source": [
    "import brightway2 as bw\n",
    "import numpy as np\n",
    "bw.projects.set_current('ei36cutoff') # Project with ecoinvent 3.6 cut-off by classification already imported"
   ]
  },
  {
   "cell_type": "markdown",
   "metadata": {},
   "source": [
    "The only Class you need is the `DatabaseLandBalancer`:"
   ]
  },
  {
   "cell_type": "code",
   "execution_count": 2,
   "metadata": {},
   "outputs": [],
   "source": [
    "from bw2landbalancer import DatabaseLandBalancer"
   ]
  },
  {
   "cell_type": "markdown",
   "metadata": {},
   "source": [
    "Instantiating the DatabaseLandBalancer will automatically identify land transformation biosphere activities (elementary flows). "
   ]
  },
  {
   "cell_type": "code",
   "execution_count": 3,
   "metadata": {},
   "outputs": [
    {
     "name": "stdout",
     "output_type": "stream",
     "text": [
      "Validating data\n",
      "Getting information on land transformation exchanges\n"
     ]
    }
   ],
   "source": [
    "dlb = DatabaseLandBalancer(\n",
    "    database_name=\"ei36_cutoff\", #name the LCI db in the brightway2 project\n",
    ")"
   ]
  },
  {
   "cell_type": "markdown",
   "metadata": {},
   "source": [
    "Generating presamples for the whole database is a lengthy process. Thankfully, it only ever needs to be done once per database:"
   ]
  },
  {
   "cell_type": "code",
   "execution_count": 4,
   "metadata": {},
   "outputs": [
    {
     "name": "stderr",
     "output_type": "stream",
     "text": [
      "0% [##############################] 100% | ETA: 00:00:00\n",
      "Total time elapsed: 00:57:54\n"
     ]
    }
   ],
   "source": [
    "dlb.add_samples_for_all_acts(iterations=1000)"
   ]
  },
  {
   "cell_type": "markdown",
   "metadata": {},
   "source": [
    "The samples and associated indices are stored as attributes: "
   ]
  },
  {
   "cell_type": "code",
   "execution_count": 5,
   "metadata": {},
   "outputs": [
    {
     "data": {
      "text/plain": [
       "array([[1.61385084e+01, 1.53166675e+01, 1.54806866e+01, ...,\n",
       "        1.60834272e+01, 1.70964231e+01, 1.44329729e+01],\n",
       "       [1.61385084e+01, 1.53166675e+01, 1.54806866e+01, ...,\n",
       "        1.60834272e+01, 1.70964231e+01, 1.44329729e+01],\n",
       "       [3.32330012e-01, 2.94084770e-01, 3.76182953e-01, ...,\n",
       "        3.90229818e-01, 4.01519523e-01, 4.56569388e-01],\n",
       "       ...,\n",
       "       [4.03842987e-03, 3.91135252e-03, 4.24657857e-03, ...,\n",
       "        3.84872493e-03, 3.95567310e-03, 4.18979061e-03],\n",
       "       [8.29692497e-01, 4.93342609e-01, 5.38912042e-01, ...,\n",
       "        4.90056585e-01, 3.89891291e-01, 6.31866515e-01],\n",
       "       [8.29692497e-01, 4.93342609e-01, 5.38912042e-01, ...,\n",
       "        4.90056585e-01, 3.89891291e-01, 6.31866515e-01]])"
      ]
     },
     "execution_count": 5,
     "metadata": {},
     "output_type": "execute_result"
    }
   ],
   "source": [
    "dlb.matrix_samples"
   ]
  },
  {
   "cell_type": "code",
   "execution_count": 6,
   "metadata": {},
   "outputs": [
    {
     "data": {
      "text/plain": [
       "(4508, 1000)"
      ]
     },
     "execution_count": 6,
     "metadata": {},
     "output_type": "execute_result"
    }
   ],
   "source": [
    "dlb.matrix_samples.shape"
   ]
  },
  {
   "cell_type": "code",
   "execution_count": 7,
   "metadata": {},
   "outputs": [
    {
     "data": {
      "text/plain": [
       "[(('biosphere3', 'e97b784a-ec09-4b1b-9f14-cc0ce9799c9e'),\n",
       "  ('ei36_cutoff', '0f329cdc9af059886efa6ce2eb675d83'),\n",
       "  'biosphere'),\n",
       " (('biosphere3', '4b420f19-0421-461e-a0b6-7efbf580089b'),\n",
       "  ('ei36_cutoff', '0f329cdc9af059886efa6ce2eb675d83'),\n",
       "  'biosphere'),\n",
       " (('biosphere3', '2f1e926a-ec96-432b-b2a6-bd5e3de2ff87'),\n",
       "  ('ei36_cutoff', '9eb153238b0a21e91e58bb73019b44d9'),\n",
       "  'biosphere'),\n",
       " (('biosphere3', '4d166779-88fd-441b-9537-f3b974e3bff7'),\n",
       "  ('ei36_cutoff', '9eb153238b0a21e91e58bb73019b44d9'),\n",
       "  'biosphere'),\n",
       " (('biosphere3', '46b8b2fd-eb2a-413d-bc39-e7dc18a420ef'),\n",
       "  ('ei36_cutoff', 'b2b55174e2067065388d850b7189947e'),\n",
       "  'biosphere'),\n",
       " (('biosphere3', 'e717f3cc-ac70-4c9b-be56-1614239b917e'),\n",
       "  ('ei36_cutoff', 'b2b55174e2067065388d850b7189947e'),\n",
       "  'biosphere'),\n",
       " (('biosphere3', '994d61de-fbb0-4187-a4d4-b11c3c2b9102'),\n",
       "  ('ei36_cutoff', 'b2b55174e2067065388d850b7189947e'),\n",
       "  'biosphere'),\n",
       " (('biosphere3', '04eb0695-e67b-46e5-9516-da6bde119822'),\n",
       "  ('ei36_cutoff', 'b2b55174e2067065388d850b7189947e'),\n",
       "  'biosphere'),\n",
       " (('biosphere3', '4624deff-2016-41d4-b2bf-3db8dab88779'),\n",
       "  ('ei36_cutoff', '5265e0c4ff31c517f4f38c664ac5a8d4'),\n",
       "  'biosphere'),\n",
       " (('biosphere3', '17a5a406-333f-4b9e-8852-c2de50bc9585'),\n",
       "  ('ei36_cutoff', '5265e0c4ff31c517f4f38c664ac5a8d4'),\n",
       "  'biosphere')]"
      ]
     },
     "execution_count": 7,
     "metadata": {},
     "output_type": "execute_result"
    }
   ],
   "source": [
    "dlb.matrix_indices[0:10] # First ten indices"
   ]
  },
  {
   "cell_type": "code",
   "execution_count": 8,
   "metadata": {},
   "outputs": [
    {
     "data": {
      "text/plain": [
       "4508"
      ]
     },
     "execution_count": 8,
     "metadata": {},
     "output_type": "execute_result"
    }
   ],
   "source": [
    "len(dlb.matrix_indices)"
   ]
  },
  {
   "cell_type": "markdown",
   "metadata": {},
   "source": [
    "These can directly be used to generate [`presamples`](https://presamples.readthedocs.io/):"
   ]
  },
  {
   "cell_type": "code",
   "execution_count": 9,
   "metadata": {},
   "outputs": [
    {
     "name": "stdout",
     "output_type": "stream",
     "text": [
      "Presamples with id_ d103bcee2de94a83b954fd638119e065 written at C:\\Users\\Pascal Lesage\\AppData\\Local\\pylca\\Brightway3\\ei36cutoff.e8d08b39952c787ab81510769bc7a655\\presamples\\d103bcee2de94a83b954fd638119e065\n"
     ]
    }
   ],
   "source": [
    "presamples_id, presamples_fp = dlb.create_presamples(\n",
    "    name=None, #Could have specified a string as name, not passing anything will use automatically generated random name\n",
    "    dirpath=None, #Could have specified a directory path to save presamples somewhere specific \n",
    "    id_=None, #Could have specified a string as id, not passing anything will use automatically generated random id\n",
    "    seed='sequential', #or None, or int.\n",
    "    )"
   ]
  },
  {
   "cell_type": "markdown",
   "metadata": {},
   "source": [
    "## Using the samples\n",
    "\n",
    "The samples are formatted for use in brighway2 via the presamples package. \n",
    "\n",
    "The following function calculates:  \n",
    "  - Deterministic results, using `bw.LCA`  \n",
    "  - Stochastic results, using `bw.MonteCarloLCA`  \n",
    "  - Stochastic results using presamples, using `bw.MonteCarloLCA` and passing `presamples=[presamples_fp]`  \n",
    "  \n",
    "The ratio of stochastic results to deterministic results are then plotted for Monte Carlo results with and without presamples.  \n",
    "Ratios for Monte Carlo with presamples are on the order of 1.  \n",
    "Ratios for Monte Carlo without presamples can be multiple orders of magnitude, and can be negative or positive.    "
   ]
  },
  {
   "cell_type": "code",
   "execution_count": 10,
   "metadata": {},
   "outputs": [],
   "source": [
    "def check_presamples_act(act_key, ps_fp, lcia_method, iterations=1000):\n",
    "    \"\"\"Plot histrograms of Monte Carlo samples/det result for case w/ and w/o presamples\"\"\"\n",
    "    lca = bw.LCA({act_key:1}, method=m)\n",
    "    lca.lci()\n",
    "    lca.lcia()\n",
    "    \n",
    "    mc_arr_wo = np.empty(shape=iterations)\n",
    "    mc = bw.MonteCarloLCA({act_key:1}, method=m)\n",
    "    for i in range(iterations):\n",
    "        mc_arr_wo[i] = next(mc)/lca.score\n",
    "    \n",
    "    mc_arr_w = np.empty(shape=iterations)\n",
    "    mc_w = bw.MonteCarloLCA({act_key:1}, method=m, presamples=[ps_fp])\n",
    "    for i in range(iterations):\n",
    "        mc_arr_w[i] = next(mc_w)/lca.score\n",
    "    \n",
    "    plt.hist(mc_arr_wo, histtype=\"step\", color='orange', label=\"without presamples\")\n",
    "    plt.hist(mc_arr_w, histtype=\"step\", color='green', label=\"with presamples\")\n",
    "    plt.legend()"
   ]
  },
  {
   "cell_type": "markdown",
   "metadata": {},
   "source": [
    "Let's run this on a couple of random ecoinvent products with the ImpactWorld+ Land transformation, biodiversity LCIA method:"
   ]
  },
  {
   "cell_type": "code",
   "execution_count": 11,
   "metadata": {},
   "outputs": [],
   "source": [
    "m=('IMPACTWorld+ (Default_Recommended_Midpoint 1.23)', 'Midpoint', 'Land transformation, biodiversity')"
   ]
  },
  {
   "cell_type": "code",
   "execution_count": 12,
   "metadata": {},
   "outputs": [],
   "source": [
    "import matplotlib.pyplot as plt\n",
    "%matplotlib inline"
   ]
  },
  {
   "cell_type": "code",
   "execution_count": 13,
   "metadata": {},
   "outputs": [
    {
     "name": "stdout",
     "output_type": "stream",
     "text": [
      "Working on activity known to have non-negligeable land transformation impacts:  'polyester-complexed starch biopolymer production' (kilogram, RoW, None)\n"
     ]
    },
    {
     "data": {
      "image/png": "[encoded data removed]",
      "text/plain": [
       "<Figure size 432x288 with 1 Axes>"
      ]
     },
     "metadata": {
      "needs_background": "light"
     },
     "output_type": "display_data"
    }
   ],
   "source": [
    "act = [act for act in bw.Database('ei36_cutoff') if act['name']=='polyester-complexed starch biopolymer production'][0]\n",
    "print(\"Working on activity known to have non-negligeable land transformation impacts: \", act)\n",
    "check_presamples_act(act.key, presamples_fp, m)"
   ]
  },
  {
   "cell_type": "code",
   "execution_count": 14,
   "metadata": {},
   "outputs": [
    {
     "name": "stdout",
     "output_type": "stream",
     "text": [
      "Randomly working on  'market for wind turbine, 2.3MW, onshore' (unit, GLO, None)\n"
     ]
    },
    {
     "data": {
      "image/png": "[encoded data removed]",
      "text/plain": [
       "<Figure size 432x288 with 1 Axes>"
      ]
     },
     "metadata": {
      "needs_background": "light"
     },
     "output_type": "display_data"
    }
   ],
   "source": [
    "act = bw.Database('ei36_cutoff').random()\n",
    "print(\"Randomly working on \", act)\n",
    "check_presamples_act(act.key, presamples_fp, m)"
   ]
  },
  {
   "cell_type": "code",
   "execution_count": 15,
   "metadata": {},
   "outputs": [
    {
     "name": "stdout",
     "output_type": "stream",
     "text": [
      "Randomly working on  'market for waste polyurethane' (kilogram, PE, None)\n"
     ]
    },
    {
     "data": {
      "image/png": "[encoded data removed]",
      "text/plain": [
       "<Figure size 432x288 with 1 Axes>"
      ]
     },
     "metadata": {
      "needs_background": "light"
     },
     "output_type": "display_data"
    }
   ],
   "source": [
    "act = bw.Database('ei36_cutoff').random()\n",
    "print(\"Randomly working on \", act)\n",
    "check_presamples_act(act.key, presamples_fp, m)"
   ]
  },
  {
   "cell_type": "code",
   "execution_count": 16,
   "metadata": {},
   "outputs": [
    {
     "name": "stdout",
     "output_type": "stream",
     "text": [
      "Randomly working on  'heat production, light fuel oil, at industrial furnace 1MW' (megajoule, Europe without Switzerland, None)\n"
     ]
    },
    {
     "data": {
      "image/png": "[encoded data removed]",
      "text/plain": [
       "<Figure size 432x288 with 1 Axes>"
      ]
     },
     "metadata": {
      "needs_background": "light"
     },
     "output_type": "display_data"
    }
   ],
   "source": [
    "act = bw.Database('ei36_cutoff').random()\n",
    "print(\"Randomly working on \", act)\n",
    "check_presamples_act(act.key, presamples_fp, m)"
   ]
  },
  {
   "cell_type": "code",
   "execution_count": 17,
   "metadata": {},
   "outputs": [
    {
     "name": "stdout",
     "output_type": "stream",
     "text": [
      "Randomly working on  'soybean oil refinery operation' (kilogram, US, None)\n"
     ]
    },
    {
     "data": {
      "image/png": "[encoded data removed]",
      "text/plain": [
       "<Figure size 432x288 with 1 Axes>"
      ]
     },
     "metadata": {
      "needs_background": "light"
     },
     "output_type": "display_data"
    }
   ],
   "source": [
    "act = bw.Database('ei36_cutoff').random()\n",
    "print(\"Randomly working on \", act)\n",
    "check_presamples_act(act.key, presamples_fp, m)"
   ]
  }
 ],
 "metadata": {
  "kernelspec": {
   "display_name": "Python 3",
   "language": "python",
   "name": "python3"
  },
  "language_info": {
   "codemirror_mode": {
    "name": "ipython",
    "version": 3
   },
   "file_extension": ".py",
   "mimetype": "text/x-python",
   "name": "python",
   "nbconvert_exporter": "python",
   "pygments_lexer": "ipython3",
   "version": "3.7.3"
  },
  "toc": {
   "base_numbering": 1,
   "nav_menu": {},
   "number_sections": false,
   "sideBar": true,
   "skip_h1_title": false,
   "title_cell": "Table of Contents",
   "title_sidebar": "Contents",
   "toc_cell": false,
   "toc_position": {},
   "toc_section_display": true,
   "toc_window_display": true
  },
  "varInspector": {
   "cols": {
    "lenName": 16,
    "lenType": 16,
    "lenVar": 40
   },
   "kernels_config": {
    "python": {
     "delete_cmd_postfix": "",
     "delete_cmd_prefix": "del ",
     "library": "var_list.py",
     "varRefreshCmd": "print(var_dic_list())"
    },
    "r": {
     "delete_cmd_postfix": ") ",
     "delete_cmd_prefix": "rm(",
     "library": "var_list.r",
     "varRefreshCmd": "cat(var_dic_list()) "
    }
   },
   "types_to_exclude": [
    "module",
    "function",
    "builtin_function_or_method",
    "instance",
    "_Feature"
   ],
   "window_display": false
  }
 },
 "nbformat": 4,
 "nbformat_minor": 2
}
